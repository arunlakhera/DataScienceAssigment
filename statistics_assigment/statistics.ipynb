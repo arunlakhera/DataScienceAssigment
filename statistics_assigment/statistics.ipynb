{
  "nbformat": 4,
  "nbformat_minor": 0,
  "metadata": {
    "colab": {
      "provenance": []
    },
    "kernelspec": {
      "name": "python3",
      "display_name": "Python 3"
    },
    "language_info": {
      "name": "python"
    }
  },
  "cells": [
    {
      "cell_type": "markdown",
      "source": [
        "**Q-1. A university wants to understand the relationship between the SAT scores of its applicants and their college GPA. They collect data on 500 students, including their SAT scores (out of 1600) and their college GPA (on a 4.0 scale). They find that the correlation coefficient between SAT scores and college GPA is 0.7. What does this correlation coefficient indicate about the relationship between SAT scores and college GPA?**"
      ],
      "metadata": {
        "id": "D6wRFn2Ct2ZE"
      }
    },
    {
      "cell_type": "markdown",
      "source": [
        "Ans) Since the value of correlation coefficient 0.7 is more near to +1 we know that there is strong posi that there is strong positive relationship between SAT Scores and GPA. This means if SAT Score increases then students GPA also increases and vice versa. "
      ],
      "metadata": {
        "id": "ERxaxl-Qt5N-"
      }
    },
    {
      "cell_type": "markdown",
      "source": [
        "**Q-2. Consider a dataset containing the heights (in centimeters) of 1000 individuals. The mean height is 170 cm with a standard deviation of 10 cm. The dataset is approximately normally distributed, and its skewness is approximately zero. Based on this information, answer the following questions:**\n",
        "\n",
        "**a. What percentage of individuals in the dataset have heights between 160 cm and 180 cm?**\n",
        "\n",
        "**b. If we randomly select 100 individuals from the dataset, what is the probability that their average height is greater than 175 cm?**\n",
        "\n",
        "**c. Assuming the dataset follows a normal distribution, what is the z-score corresponding to a height of 185 cm?**\n",
        "\n",
        "**d. We know that 5% of the dataset has heights below a certain value. What is\n",
        "the approximate height corresponding to this threshold?**\n",
        "\n",
        "**e. Calculate the coefficient of variation (CV) for the dataset.**\n",
        "\n",
        "**f. Calculate the skewness of the dataset and interpret the result.**"
      ],
      "metadata": {
        "id": "-TGSTeU5wYyR"
      }
    },
    {
      "cell_type": "markdown",
      "source": [
        "Ans"
      ],
      "metadata": {
        "id": "o0Oer75O22gN"
      }
    },
    {
      "cell_type": "code",
      "execution_count": 36,
      "metadata": {
        "colab": {
          "base_uri": "https://localhost:8080/"
        },
        "id": "B5x7yJqltzdf",
        "outputId": "86ce11cb-680c-4933-8db7-88f1b8367c51"
      },
      "outputs": [
        {
          "output_type": "stream",
          "name": "stdout",
          "text": [
            "As per data 68.27% individuals have heigths between 160 cm & 180 cm.\n"
          ]
        }
      ],
      "source": [
        "# a. What percentage of individuals in the dataset have heights between 160 cm and 180 cm?\n",
        "\n",
        "import scipy.stats as stats\n",
        "\n",
        "# given\n",
        "mu = 170\n",
        "std = 10\n",
        "\n",
        "# standardize the values \n",
        "# for 160cm\n",
        "x_160 = 160\n",
        "z_160 = (x_160 - mu) / std\n",
        "\n",
        "# for 180cm\n",
        "x_180 = 180\n",
        "z_180 = (x_180 - mu) / std\n",
        "\n",
        "# percentage of area between z_160 & z_180 scores\n",
        "per_area_btwn_z160_z180 = round((stats.norm.cdf(z_180) - stats.norm.cdf(z_160)) * 100, 2)\n",
        "\n",
        "print(f\"As per data {per_area_btwn_z160_z180}% individuals have heigths between 160 cm & 180 cm.\")"
      ]
    },
    {
      "cell_type": "code",
      "source": [
        "# b. If we randomly select 100 individuals from the dataset, what is the probability that their average height is greater than 175 cm?\n",
        "\n",
        "import math\n",
        "# Since we know dataset is normally distributed and any sample drawn from normally distributed population follows normal distribution,\n",
        "# so we know the population mean is 170 and standard deviation is 10\n",
        "# given\n",
        "mu = 170\n",
        "SIGMA = 10\n",
        "n = 100\n",
        "\n",
        "# Standard error can be found SE=SIGMA/sqrt of N where SIGMA is Standard Deviation of population i.e 10 and n is the size of sample\n",
        "SE = SIGMA / math.sqrt(n)\n",
        "\n",
        "print(\"Standard Error is,\", SE)\n",
        "\n",
        "# finding the Z score for probability that average height > 175\n",
        "z_175 = (175 - mu)/SE\n",
        "\n",
        "print(\"Z-score is \", z_175)\n",
        "\n",
        "# percentage of area under 175cm \n",
        "per_area_und_z175 = stats.norm.cdf(z_175)\n",
        "\n",
        "# percentage of area greater than 175\n",
        "per_area_gt_z175 = round((1 - per_area_und_z175) * 100, 5)\n",
        "print(\"P\", per_area_gt_z175)"
      ],
      "metadata": {
        "colab": {
          "base_uri": "https://localhost:8080/"
        },
        "id": "1pXV4VCa3dAd",
        "outputId": "065d50be-6275-4564-ccb6-5892edc85cca"
      },
      "execution_count": 37,
      "outputs": [
        {
          "output_type": "stream",
          "name": "stdout",
          "text": [
            "Standard Error is, 1.0\n",
            "Z-score is  5.0\n",
            "P 3e-05\n"
          ]
        }
      ]
    },
    {
      "cell_type": "code",
      "source": [
        "# c. Assuming the dataset follows a normal distribution, what is the z-score corresponding to a height of 185 cm?\n",
        "\n",
        "# given\n",
        "mu = 170\n",
        "SIGMA = 10\n",
        "n = 100\n",
        "x = 185 \n",
        "z = (x - mu) / SIGMA \n",
        "\n",
        "print(\"The z-score is \", z)"
      ],
      "metadata": {
        "colab": {
          "base_uri": "https://localhost:8080/"
        },
        "id": "_waZ4Zh7Ax4Z",
        "outputId": "3fb200e9-8016-49a9-fdbb-db2309ff2bb1"
      },
      "execution_count": 38,
      "outputs": [
        {
          "output_type": "stream",
          "name": "stdout",
          "text": [
            "The z-score is  1.5\n"
          ]
        }
      ]
    },
    {
      "cell_type": "code",
      "source": [
        "# d. We know that 5% of the dataset has heights below a certain value. What is the approximate height corresponding to this threshold?\n",
        "# given cumulative probability\n",
        "cp = 0.05\n",
        "\n",
        "# Calculate the z-score corresponding to the cumulative probability\n",
        "z_score = stats.norm.ppf(cp)\n",
        "\n",
        "print(\"Z-score is \", z_score)\n",
        "\n",
        "# given \n",
        "mu = 170\n",
        "SIGMA = 10\n",
        "\n",
        "# we know z = x-mu/SIGMA therefore x = (z * SIGMA) + mu\n",
        "x = (z_score * SIGMA) + mu\n",
        "\n",
        "print(\"Approximate height is \", x)"
      ],
      "metadata": {
        "colab": {
          "base_uri": "https://localhost:8080/"
        },
        "id": "ChOTTGF_OG2q",
        "outputId": "b308add7-59fc-48e0-833c-3a8afc973f4b"
      },
      "execution_count": 39,
      "outputs": [
        {
          "output_type": "stream",
          "name": "stdout",
          "text": [
            "Z-score is  -1.6448536269514729\n",
            "Approximate height is  153.55146373048527\n"
          ]
        }
      ]
    },
    {
      "cell_type": "code",
      "source": [
        "# e. Calculate the coefficient of variation (CV) for the dataset.\n",
        "\n",
        "# given \n",
        "mu = 170\n",
        "SIGMA = 10\n",
        "\n",
        "CV = (SIGMA / mu) * 100\n",
        "\n",
        "print(\"Coefficient of variation is \", CV)"
      ],
      "metadata": {
        "colab": {
          "base_uri": "https://localhost:8080/"
        },
        "id": "354GgLmSO4tA",
        "outputId": "21326293-348f-4681-f9d3-e6bd1baccb84"
      },
      "execution_count": 40,
      "outputs": [
        {
          "output_type": "stream",
          "name": "stdout",
          "text": [
            "Coefficient of variation is  5.88235294117647\n"
          ]
        }
      ]
    },
    {
      "cell_type": "code",
      "source": [
        "# f. Calculate the skewness of the dataset and interpret the result.\n",
        "\n",
        "# Since we are told that skewness of the dataset is zero i.e dataset is symmetric around the mean\n",
        "# given \n",
        "mu = 170\n",
        "SIGMA = 10\n",
        "\n",
        "# Since given dataset is normally distributed and its skewness is zero i.e Mean = Median = Mode\n",
        "med = mu\n",
        "skew = (3 * (mu - med)) / SIGMA\n",
        "\n",
        "print(\"Skewness is \", skew)"
      ],
      "metadata": {
        "colab": {
          "base_uri": "https://localhost:8080/"
        },
        "id": "66gUs3VEPz12",
        "outputId": "b818e920-697f-431c-bd3a-7d47c184b30b"
      },
      "execution_count": 41,
      "outputs": [
        {
          "output_type": "stream",
          "name": "stdout",
          "text": [
            "Skewness is  0.0\n"
          ]
        }
      ]
    },
    {
      "cell_type": "markdown",
      "source": [
        "**Q-3. Consider the ‘Blood Pressure Before’ and ‘Blood Pressure After’ columns from the data and calculate the following**\n",
        "\n",
        "https://drive.google.com/file/d/1mCjtYHiX--mMUjicuaP2gH3k-SnFxt8Y/view?usp=share_\n",
        "\n",
        "**a. Measure the dispersion in both and interpret the results.**\n",
        "\n",
        "**b. Calculate mean and 5% confidence interval and plot it in a graph**\n",
        "\n",
        "**c. Calculate the Mean absolute deviation and Standard deviation and interpret the results.**\n",
        "\n",
        "**d. Calculate the correlation coefficient and check the significance of it at 1% level of significance.**"
      ],
      "metadata": {
        "id": "8h1FjuJtQz1d"
      }
    },
    {
      "cell_type": "markdown",
      "source": [
        "Ans"
      ],
      "metadata": {
        "id": "xUZ0AI12RJcI"
      }
    },
    {
      "cell_type": "code",
      "source": [
        "# a. Measure the dispersion in both and interpret the results.\n",
        "import pandas as pd\n",
        "import numpy as np\n",
        "\n",
        "df = pd.read_csv(\"data.csv\")\n",
        "\n",
        "# To measure dispersion we will find Range, Variance and Standard Deviation\n",
        "bp_bef = df[df.columns[1]]\n",
        "bp_aft = df[df.columns[2]]\n",
        "\n",
        "# Dispersion measures\n",
        "ran_bef = np.max(bp_bef) - np.min(bp_bef)\n",
        "ran_aft = np.max(bp_aft) - np.min(bp_aft)\n",
        "\n",
        "var_bef = np.var(bp_bef)\n",
        "var_aft = np.var(bp_aft)\n",
        "\n",
        "std_bef = np.std(bp_bef)\n",
        "std_aft = np.std(bp_aft)\n",
        "\n",
        "# Interpretation of results\n",
        "print(\"Measure of Dispersion\")\n",
        "\n",
        "print(\"For Blood Pressure Before\")\n",
        "\n",
        "print(\"Range: {:.2f}\".format(ran_bef))\n",
        "print(\"Variance: {:.2f}\".format(var_bef))\n",
        "print(\"Standard Deviation: {:.2f}\".format(std_bef))\n",
        "print('\\n')\n",
        "print('*'*10)\n",
        "print(\"For Blood Pressure After\")\n",
        "\n",
        "print(\"Range: {:.2f}\".format(ran_aft))\n",
        "print(\"Variance: {:.2f}\".format(var_aft))\n",
        "print(\"Standard Deviation: {:.2f}\".format(std_aft))"
      ],
      "metadata": {
        "colab": {
          "base_uri": "https://localhost:8080/"
        },
        "id": "0ksVJ4WdQqLy",
        "outputId": "84039bd9-b6cd-473c-a885-1aaefeefb1a7"
      },
      "execution_count": 42,
      "outputs": [
        {
          "output_type": "stream",
          "name": "stdout",
          "text": [
            "Measure of Dispersion\n",
            "For Blood Pressure Before\n",
            "Range: 28.00\n",
            "Variance: 43.10\n",
            "Standard Deviation: 6.57\n",
            "\n",
            "\n",
            "**********\n",
            "For Blood Pressure After\n",
            "Range: 23.00\n",
            "Variance: 46.97\n",
            "Standard Deviation: 6.85\n"
          ]
        }
      ]
    },
    {
      "cell_type": "code",
      "source": [
        "# b. Calculate mean and 5% confidence interval and plot it in a graph\n",
        "import matplotlib.pyplot as plt\n",
        "\n",
        "mean_bef = np.mean(bp_bef)\n",
        "mean_aft = np.mean(bp_aft)\n",
        "\n",
        "ci_bef = stats.norm.interval(0.95, loc=mean_bef, scale=std_bef / np.sqrt(len(bp_bef)))\n",
        "ci_aft = stats.norm.interval(0.95, loc=mean_aft, scale=std_aft / np.sqrt(len(bp_aft)))\n",
        "\n",
        "print(\"Before\")\n",
        "print('*'*10)\n",
        "print(\"Mean is :\" ,mean_bef)\n",
        "print(\"Confidence Interval is: \", ci_bef)\n",
        "\n",
        "print()\n",
        "print(\"After\")\n",
        "print('*'*10)\n",
        "print(\"Mean is :\" ,mean_aft)\n",
        "print(\"Confidence Interval is: \", ci_aft)\n",
        "\n",
        "\n",
        "labels = ['Blood Pressure Before', 'Blood Pressure After']\n",
        "means = [mean_bef, mean_aft]\n",
        "ci = [ci_bef, ci_aft]\n",
        "err = [(ci[1] - mean) for ci, mean in zip(ci, means)]\n",
        "\n",
        "plt.ylabel('Blood Pressure')\n",
        "plt.xlabel('Mean Blood Pressure Before & After')\n",
        "plt.plot(ci)"
      ],
      "metadata": {
        "colab": {
          "base_uri": "https://localhost:8080/",
          "height": 652
        },
        "id": "jP2HPgCBUtRd",
        "outputId": "95415d3d-2fa3-4226-e908-b436889fc413"
      },
      "execution_count": 66,
      "outputs": [
        {
          "output_type": "stream",
          "name": "stdout",
          "text": [
            "Before\n",
            "**********\n",
            "Mean is : 133.91\n",
            "Confidence Interval is:  (132.62324371404807, 135.19675628595192)\n",
            "\n",
            "After\n",
            "**********\n",
            "Mean is : 128.36\n",
            "Confidence Interval is:  (127.01673957330856, 129.70326042669146)\n"
          ]
        },
        {
          "output_type": "execute_result",
          "data": {
            "text/plain": [
              "[<matplotlib.lines.Line2D at 0x7fec970212a0>,\n",
              " <matplotlib.lines.Line2D at 0x7fec97021300>]"
            ]
          },
          "metadata": {},
          "execution_count": 66
        },
        {
          "output_type": "display_data",
          "data": {
            "text/plain": [
              "<Figure size 640x480 with 1 Axes>"
            ],
            "image/png": "[encoded data removed]"
          },
          "metadata": {}
        }
      ]
    },
    {
      "cell_type": "code",
      "source": [
        "# c. Calculate the Mean absolute deviation and Standard deviation and interpret the results.\n",
        "\n",
        "mad_bef = np.mean(np.abs(bp_bef - mean_bef))\n",
        "mad_aft = np.mean(np.abs(bp_aft - mean_aft))\n",
        "\n",
        "std_dev_bef = np.std(bp_bef)\n",
        "std_dev_aft = np.std(bp_aft)\n",
        "\n",
        "print(\"Before\")\n",
        "print(\"Mean Absolute Deviation: \", mad_bef)\n",
        "print(\"Standard Deviation: \", std_dev_bef)\n",
        "\n",
        "print()\n",
        "print(\"After\")\n",
        "print(\"Mean Absolute Deviation: \", mad_aft)\n",
        "print(\"Standard Deviation: \", std_dev_aft)\n",
        "\n",
        "print()\n",
        "print(f\"The MAD for BP before is {mad_bef} & after is {mad_aft}. This is the absolute difference between the mean and the points.\\nWe note that standard deviation before is {std_bef} and after is {std_aft}.\\nAs we can notice the difference in MAD and Standard deviation both for before and after,\\nwe know that there are outliers in the data since MAD does not show much difference in before & after as it is robust to outliers whereas Standard deviation value varies.\")"
      ],
      "metadata": {
        "colab": {
          "base_uri": "https://localhost:8080/"
        },
        "id": "Pl7Ysm6ndFye",
        "outputId": "5c3bd6e1-952c-42fa-a41e-602fbdbb7bf2"
      },
      "execution_count": 73,
      "outputs": [
        {
          "output_type": "stream",
          "name": "stdout",
          "text": [
            "Before\n",
            "Mean Absolute Deviation:  5.7118\n",
            "Standard Deviation:  6.56520372875054\n",
            "\n",
            "After\n",
            "Mean Absolute Deviation:  5.9\n",
            "Standard Deviation:  6.853495458523336\n",
            "\n",
            "The MAD for BP before is 5.7118 & after is 5.9. This is the absolute difference between the mean and the points.\n",
            "We note that standard deviation before is 6.56520372875054 and after is 6.853495458523336.\n",
            "As we can notice the difference in MAD and Standard deviation both for before and after,\n",
            "we know that there are outliers in the data since MAD does not show much difference in before & after as it is robust to outliers whereas Standard deviation value varies.\n"
          ]
        }
      ]
    },
    {
      "cell_type": "code",
      "source": [
        "# d. Calculate the correlation coefficient and check the significance of it at 1% level of significance.\n",
        "\n",
        "corr_coeff = round(np.corrcoef(bp_bef, bp_aft)[0, 1], 4)\n",
        "\n",
        "n = len(bp_bef)\n",
        "t_cri = round(stats.t.ppf(0.995, df = n - 2), 4)\n",
        "se = round(np.sqrt((1 - corr_coeff ** 2) / (n - 2)), 4)\n",
        "t_score = round(corr_coeff / se, 4)\n",
        "\n",
        "print(f\"The Correlation Coefficient is {corr_coeff}\")\n",
        "print(f\"The t-critical  is {t_cri}\")\n",
        "print(f\"The t-score is {t_score}\")\n",
        "\n",
        "if np.abs(t_score) > t_cri:\n",
        "  print(\"High Significance at 1% level\")\n",
        "else:\n",
        "  print(\"Log Significance at 1% level\")\n"
      ],
      "metadata": {
        "colab": {
          "base_uri": "https://localhost:8080/"
        },
        "id": "AL_P_yQGeC81",
        "outputId": "57fb6441-2d52-4a22-f151-64fedd31734a"
      },
      "execution_count": 78,
      "outputs": [
        {
          "output_type": "stream",
          "name": "stdout",
          "text": [
            "The Correlation Coefficient is 0.9779\n",
            "The t-critical  is 2.6269\n",
            "The t-score is 46.346\n",
            "High Significance at 1% level\n"
          ]
        }
      ]
    },
    {
      "cell_type": "markdown",
      "source": [
        "**Q-4. A group of 20 friends decide to play a game in which they each write a number between 1 and 20 on a slip of paper and put it into a hat. They then draw one slip of paper at random. What is the probability that the number on the slip of paper is a perfect square (i.e., 1, 4, 9, or 16)?**"
      ],
      "metadata": {
        "id": "TpyMQz-1iN35"
      }
    },
    {
      "cell_type": "markdown",
      "source": [
        "Ans\n"
      ],
      "metadata": {
        "id": "C0Zhn4ReiIRd"
      }
    },
    {
      "cell_type": "code",
      "source": [
        "# favorable outcomes are 1,4,9,16 i.e the numbers that are perfect square and less than 20\n",
        "fav_out = 4\n",
        "\n",
        "# Total number of possible outcomes\n",
        "tot_out = 20\n",
        "\n",
        "prob = fav_out / tot_out\n",
        "\n",
        "print(f\"The probability of perfect sqaure number is: {prob*100}%\")"
      ],
      "metadata": {
        "colab": {
          "base_uri": "https://localhost:8080/"
        },
        "id": "GHA1uRkUiZXA",
        "outputId": "222a9060-d9e1-42e5-adbc-ea6e3be895a0"
      },
      "execution_count": 82,
      "outputs": [
        {
          "output_type": "stream",
          "name": "stdout",
          "text": [
            "The probability of perfect sqaure number is: 20.0%\n"
          ]
        }
      ]
    },
    {
      "cell_type": "markdown",
      "source": [
        "**Q-5. A certain city has two taxi companies: Company A has 80% of the taxis and\n",
        "Company B has 20% of the taxis. Company A's taxis have a 95% success rate for picking up passengers on time, while Company B's taxis have a 90% success rate. If a randomly selected taxi is late, what is the probability that it belongs to Company A?**"
      ],
      "metadata": {
        "id": "mgi-jEzWj_Sw"
      }
    },
    {
      "cell_type": "code",
      "source": [
        "# We need to find P(A|L) = P(L|A) * P(A) / P(L) \n",
        "# P(L|A) is the probability that a taxi from Company A is late.\n",
        "# P(A) is the probability that a randomly selected taxi belongs to Company A. \n",
        "# P(L) is the probability that a randomly selected taxi is late.\n",
        "# \n",
        "P_A = 0.8\n",
        "P_B = 0.2\n",
        "\n",
        "# prob of late given it is taxi A\n",
        "P_L_A = 1 - 0.95\n",
        "\n",
        "# prob of late given it is taxi B\n",
        "P_L_B = 1 - 0.90 \n",
        "\n",
        "# probability of late\n",
        "P_L = P_L_A * P_A + P_L_B * P_B\n",
        "\n",
        "# using bayes theorem to find probability that a selected taxi is late and belongs to A\n",
        "P_A_L = round(P_L_A * P_A / P_L, 4)\n",
        "\n",
        "print(f\"Probability that a selected taxi is late and belongs to A is {P_A_L * 100} %\")"
      ],
      "metadata": {
        "colab": {
          "base_uri": "https://localhost:8080/"
        },
        "id": "hRz5u2IWi_pG",
        "outputId": "45a284b6-1fae-4911-a59d-a83cefcf651d"
      },
      "execution_count": 87,
      "outputs": [
        {
          "output_type": "stream",
          "name": "stdout",
          "text": [
            "Probability that a selected taxi is late and belongs to A is 66.67 %\n"
          ]
        }
      ]
    },
    {
      "cell_type": "markdown",
      "source": [
        "**Q-6. A pharmaceutical company is developing a drug that is supposed to reduce blood pressure. They conduct a clinical trial with 100 patients and record their blood pressure before and after taking the drug. The company wants to know if the change in blood pressure follows a normal distribution.**\n",
        "\n",
        "https://drive.google.com/file/d/1mCjtYHiX--mMUjicuaP2gH3k-SnFxt8Y/view?usp=share_"
      ],
      "metadata": {
        "id": "PcGmHSUtlxD6"
      }
    },
    {
      "cell_type": "code",
      "source": [
        "import pandas as pd\n",
        "import scipy.stats as stats\n",
        "\n",
        "data = pd.read_csv('data.csv')\n",
        "\n",
        "bp_bef = df[df.columns[1]]\n",
        "bp_aft = df[df.columns[2]]\n",
        "\n",
        "# We will do Shapiro Wilk test for normality to check for normal distribution\n",
        "test_bef, p_value_bef = stats.shapiro(bp_bef)\n",
        "test_aft, p_value_aft = stats.shapiro(bp_aft)\n",
        "\n",
        "print(f\"test before, p-value before : {round(test_bef, 4), round(p_value_bef,4)}\")\n",
        "print(f\"test after, p-value after  : {round(test_aft, 4), round(p_value_aft, 4)}\")\n",
        "\n",
        "# Assuming signifincance level to be 5% i.ie 0.05\n",
        "alpha = 0.05\n",
        "\n",
        "if p_value_bef > alpha and p_value_aft > alpha:\n",
        "    print(\"The change in blood pressure follows a normal distribution.\")\n",
        "else:\n",
        "    print(f\"Since p_value_before and p_value_after are not greater, The change in blood pressure does not follow a normal distribution.\")"
      ],
      "metadata": {
        "colab": {
          "base_uri": "https://localhost:8080/"
        },
        "id": "JiHhySVLlkFB",
        "outputId": "fd63732a-ff10-442b-9455-e85f458d94af"
      },
      "execution_count": 92,
      "outputs": [
        {
          "output_type": "stream",
          "name": "stdout",
          "text": [
            "test before, p-value before : (0.9573, 0.0026)\n",
            "test after, p-value after  : (0.9401, 0.0002)\n",
            "Since p_value_before and p_value_after are not greater, The change in blood pressure does not follow a normal distribution.\n"
          ]
        }
      ]
    },
    {
      "cell_type": "markdown",
      "source": [
        "**Q-7. The equations of two lines of regression, obtained in a correlation analysis between variables X and Y are as follows:**\n",
        " \n",
        " 2𝑋 + 3Y − 8 = 0 and 2𝑌 + 𝑋 − 5 = 0 \n",
        "\n",
        "**The variance of 𝑋 = 4 Find the**\n",
        "\n",
        "**a. Variance of Y**\n",
        "\n",
        "**b. Coefficient of determination of C and Y**\n",
        "\n",
        "**c. Standard error of estimate of X on Y and of Y on X.**"
      ],
      "metadata": {
        "id": "he7qCJySrmYX"
      }
    },
    {
      "cell_type": "markdown",
      "source": [
        "Ans\n"
      ],
      "metadata": {
        "id": "LsE9yvjORLOc"
      }
    },
    {
      "cell_type": "code",
      "source": [
        "import math\n",
        "\n",
        "# Define the equations\n",
        "equation1 = \"2Y + X - 5 = 0\"\n",
        "equation2 = \"2X + 3Y - 8 = 0\"\n",
        "\n",
        "# coefficients from equation1 2Y + X - 5 = 0\n",
        "\n",
        "eq1_constant = 5\n",
        "eq1_coeff_x = -1\n",
        "eq1_coeff_y = 2\n",
        "\n",
        "# coefficients from equation2 2X + 3Y - 8 = 0\n",
        "eq2_constant = 8\n",
        "eq2_coeff_x = 2\n",
        "eq2_coeff_y = -3\n",
        "\n",
        "# Calculate b_yx (byx)\n",
        "byx = eq1_coeff_x / eq1_coeff_y\n",
        "\n",
        "# Calculate b_xy (bxy)\n",
        "bxy = eq2_coeff_y / eq2_coeff_x\n",
        "\n",
        "# Calculate the correlation coefficient (r)\n",
        "r = math.sqrt(bxy * byx)\n",
        "\n",
        "# Print the rearranged equations and regression coefficients\n",
        "\n",
        "print(\"Regression coefficient (b_yx):\", byx)\n",
        "print(\"Regression coefficient (b_xy):\", bxy)\n",
        "\n",
        "print(\"Correlation coefficient (r):\", r)"
      ],
      "metadata": {
        "colab": {
          "base_uri": "https://localhost:8080/"
        },
        "id": "gd2iVbAusCtJ",
        "outputId": "63d4135d-5f0b-49b0-c862-d14441fba102"
      },
      "execution_count": 1,
      "outputs": [
        {
          "output_type": "stream",
          "name": "stdout",
          "text": [
            "Regression coefficient (b_yx): -0.5\n",
            "Regression coefficient (b_xy): -1.5\n",
            "Correlation coefficient (r): 0.8660254037844386\n"
          ]
        }
      ]
    },
    {
      "cell_type": "code",
      "source": [
        "# a. Variance of Y\n",
        "\n",
        "# Given values\n",
        "var_x = 4\n",
        "corr_coeff = 0.8660254037844386\n",
        "\n",
        "# variance of Y\n",
        "var_y = (1 - corr_coeff**2) * var_x\n",
        "\n",
        "print(\"Variance of Y:\", round(var_y,4))\n"
      ],
      "metadata": {
        "colab": {
          "base_uri": "https://localhost:8080/"
        },
        "id": "goURaWkMQ0-O",
        "outputId": "784ae7dc-2d5d-4fec-c54f-813b2e8b740f"
      },
      "execution_count": 100,
      "outputs": [
        {
          "output_type": "stream",
          "name": "stdout",
          "text": [
            "Variance of Y: 1.0\n"
          ]
        }
      ]
    },
    {
      "cell_type": "code",
      "source": [
        "# b. Coefficient of determination of C and Y\n",
        "\n",
        "# Given correlation coefficient\n",
        "corr_coeff = 0.8660254037844386\n",
        "\n",
        "# coefficient of determination R2\n",
        "r_squared = corr_coeff ** 2\n",
        "\n",
        "# Print the coefficient of determination (R^2)\n",
        "print(\"Coefficient of Determination (R^2):\", r_squared)\n",
        "print(\"Cannot calculate the coefficient of determination between C and Y as no infromation is available for variable C\")"
      ],
      "metadata": {
        "colab": {
          "base_uri": "https://localhost:8080/"
        },
        "id": "-lY640ndQ0xG",
        "outputId": "d2b55f05-a364-4c19-8f6e-b3e286785400"
      },
      "execution_count": 102,
      "outputs": [
        {
          "output_type": "stream",
          "name": "stdout",
          "text": [
            "Coefficient of Determination (R^2): 0.7499999999999999\n",
            "Cannot calculate the coefficient of determination between C and Y as no infromation is available for variable C\n"
          ]
        }
      ]
    },
    {
      "cell_type": "code",
      "source": [
        "# c. Standard error of estimate of X on Y and of Y on X.\n",
        "\n",
        "print(\"Standard error cannot be found only on equations, we need to have data so that we can obtain predicted values and then calculate the error between actual and predicted values to find the standard error\")\n"
      ],
      "metadata": {
        "colab": {
          "base_uri": "https://localhost:8080/"
        },
        "id": "UdZsQHZWQxMI",
        "outputId": "d33004c9-3a45-4f1d-8b3c-bd238896ff30"
      },
      "execution_count": 103,
      "outputs": [
        {
          "output_type": "stream",
          "name": "stdout",
          "text": [
            "Standard error cannot be found only on equations, we need to have data so that we can obtain predicted values and then calculate the error between actual and predicted values to find the standard error\n"
          ]
        }
      ]
    },
    {
      "cell_type": "markdown",
      "source": [
        "**Q-8. The anxiety levels of 10 participants were measured before and after a new therapy.The scores are not normally distributed. Use the Wilcoxon signed-rank test to test whether the therapy had a significant effect on anxiety levels. The data is given below: Participant Before therapy After therapy Difference [therapy_Data.xlsx]**"
      ],
      "metadata": {
        "id": "CzDx1qWrrmQv"
      }
    },
    {
      "cell_type": "markdown",
      "source": [
        "Ans\n"
      ],
      "metadata": {
        "id": "O6PVZGgcSRAN"
      }
    },
    {
      "cell_type": "code",
      "source": [
        "import scipy.stats as stats\n",
        "import pandas as pd\n",
        "\n",
        "# Read data \n",
        "therapy_df = pd.read_excel('therapy_data.xlsx')\n",
        "\n",
        "# Extract the columns\n",
        "bef_therapy = therapy_df['before therapy']\n",
        "aft_therapy = therapy_df['after therapy']\n",
        "diff_therapy = therapy_df['difference']\n",
        "\n",
        "#  Wilcoxon test\n",
        "t_stats, p_value = stats.wilcoxon(diff_therapy)  \n",
        "\n",
        "print(\"Wilcoxon t-statistic:\", t_stats)\n",
        "print(\"p-value:\", p_value)\n",
        "\n",
        "print('*'*10)\n",
        "\n",
        "# Assuming the significance level to be 5% i.e 0.05\n",
        "sign_level= 0.05\n",
        "if p_value <sign_level:\n",
        "    print(f\"Since p-value : {p_value} < significance_level : {significance_level}. The therapy has a significant effect on anxiety levels hence we reject null hypothesis\")\n",
        "elif p_value >= sign_level:\n",
        "    print(f\"As p_value : {p_value} >= significance_level : {significance_level} The therapy did not have a significant effect on anxiety levels hence we fail to reject null hypothesis\")\n",
        "  \n"
      ],
      "metadata": {
        "colab": {
          "base_uri": "https://localhost:8080/"
        },
        "id": "jsJhrgUFtMry",
        "outputId": "92868d8b-03ef-4245-d8f4-62d83484e548"
      },
      "execution_count": 97,
      "outputs": [
        {
          "output_type": "stream",
          "name": "stdout",
          "text": [
            "To Use the Wilcoxon signed-rank test to test whether the therapy had a significant effect on anxiety levels\n",
            "--------------------------------------------------------------------------------------------------------------\n",
            "Wilcoxon t-statistic: 0.0\n",
            "p-value: 0.001953125\n",
            "**********\n",
            "Since p-value : 0.001953125 < significance_level : 0.05. The therapy has a significant effect on anxiety levels hence we reject null hypothesis\n"
          ]
        }
      ]
    },
    {
      "cell_type": "markdown",
      "source": [
        "**Q-9 Given the score of students in multiple exams [exams.xlsx]\n",
        "Test the hypothesis that the mean scores of all the students are the same. If not, name the student with the highest score**"
      ],
      "metadata": {
        "id": "MHMboXfXrmKv"
      }
    },
    {
      "cell_type": "code",
      "source": [
        "import pandas as pd\n",
        "import scipy.stats as stats\n",
        "\n",
        "# Read the Excel file\n",
        "data = pd.read_excel('exams.xlsx')\n",
        "\n",
        "#  one-way ANOVA\n",
        "f_val, p_val = stats.f_oneway(data['exam1'], data['exam2'], data['final exam'])\n",
        "\n",
        "print(f\"f-value : {f_val}\")\n",
        "print(f\"p-value : {p_val}\")\n",
        "\n",
        "# Assuming the significance level to be 5% i.e 0.05\n",
        "sign_level=0.05\n",
        "\n",
        "if p_val < sign_level:\n",
        "    print(\"No,The mean scores of the students are not the same so we Reject the null hypothesis as p-value is less than significance level\")\n",
        "    hig_score_stud = data.iloc[data[['exam1', 'exam2', 'final_exam']].mean(axis=1).idxmax()]['name']\n",
        "    print(\"Student with the highest score:\", hig_score_stud)\n",
        "elif p_val >=sign_level:\n",
        "    print(\"Yes,The mean scores of the students are the same so we Fail to reject the null hypothesis as p-value is more than significance level\")"
      ],
      "metadata": {
        "colab": {
          "base_uri": "https://localhost:8080/"
        },
        "id": "VZ_wfDHcSbRH",
        "outputId": "395a87c6-7d95-4204-f072-54449aa2b616"
      },
      "execution_count": 104,
      "outputs": [
        {
          "output_type": "stream",
          "name": "stdout",
          "text": [
            "f-value : 0.3236947791164659\n",
            "p-value : 0.7295954253321559\n",
            "Yes,The mean scores of the students are the same so we Fail to reject the null hypothesis as p-value is more than significance level\n"
          ]
        }
      ]
    },
    {
      "cell_type": "markdown",
      "source": [
        "**Q-10. A factory produces light bulbs, and the probability of a bulb being defective is 0.05.**\n",
        "\n",
        "**The factory produces a large batch of 500 light bulbs.**\n",
        "\n",
        "**a. What is the probability that exactly 20 bulbs are defective?**\n",
        "\n",
        "**b. What is the probability that at least 10 bulbs are defective?**\n",
        "\n",
        "**c. What is the probability that at max 15 bulbs are defective?**\n",
        "\n",
        "**d. On average, how many defective bulbs would you expect in a batch of 500?**"
      ],
      "metadata": {
        "id": "T97pnITcrlyD"
      }
    },
    {
      "cell_type": "markdown",
      "source": [
        "Ans"
      ],
      "metadata": {
        "id": "7zdlB1J_Wv3g"
      }
    },
    {
      "cell_type": "code",
      "source": [
        "# a. What is the probability that exactly 20 bulbs are defective?\n",
        "import math\n",
        "\n",
        "# Total number of light bulbs\n",
        "n = 500  \n",
        "\n",
        "# Probability of a bulb being defective\n",
        "p = 0.05  \n",
        "\n",
        "k = 20\n",
        "prob_20_def = math.comb(n, k) * (p**k) * ((1 - p)**(n - k)) \n",
        "\n",
        "print(f\"Probability that exactly 20 bulbs are defectiveis {round(prob_20_def, 4)*100}%\")"
      ],
      "metadata": {
        "colab": {
          "base_uri": "https://localhost:8080/"
        },
        "id": "TGzPgtKwpQbf",
        "outputId": "73c4da71-5b6f-43c2-9250-6b0856564508"
      },
      "execution_count": 6,
      "outputs": [
        {
          "output_type": "stream",
          "name": "stdout",
          "text": [
            "Probability that exactly 20 bulbs are defectiveis 5.16%\n"
          ]
        }
      ]
    },
    {
      "cell_type": "code",
      "source": [
        "# b. What is the probability that at least 10 bulbs are defective?\n",
        "cum_prob = 0\n",
        "k = 10\n",
        "\n",
        "for i in range(k, n + 1):\n",
        "  cum_prob +=  math.comb(n, k) * (p**k) * ((1 - p)**(n - k)) \n",
        "\n",
        "print(f\"Probability that at least 10 bulbs are defective {round(cum_prob, 4)*100}%\")\n",
        "  "
      ],
      "metadata": {
        "colab": {
          "base_uri": "https://localhost:8080/"
        },
        "id": "cHmVlxN5pQEI",
        "outputId": "183258be-84f3-4515-ac3f-439354341243"
      },
      "execution_count": 8,
      "outputs": [
        {
          "output_type": "stream",
          "name": "stdout",
          "text": [
            "Probability that at least 10 bulbs are defective 14.32%\n"
          ]
        }
      ]
    },
    {
      "cell_type": "code",
      "source": [
        "# c. What is the probability that at max 15 bulbs are defective?\n",
        "\n",
        "k = 15\n",
        "cum_prob = 0\n",
        "\n",
        "for i in range(k + 1):\n",
        "  cum_prob += math.comb(n, k) * (p**k) * ((1 - p)**(n - k)) \n",
        "\n",
        "print(f\"Probability that at max 15 bulbs are defective {round(cum_prob, 4)*100}%\")\n"
      ],
      "metadata": {
        "colab": {
          "base_uri": "https://localhost:8080/"
        },
        "id": "M-rgAkJSpP6x",
        "outputId": "057a99b8-2b5b-4021-80cf-6148443519f9"
      },
      "execution_count": 11,
      "outputs": [
        {
          "output_type": "stream",
          "name": "stdout",
          "text": [
            "Probability that at max 15 bulbs are defective 14.469999999999999%\n"
          ]
        }
      ]
    },
    {
      "cell_type": "code",
      "source": [
        "# d. On average, how many defective bulbs would you expect in a batch of 500?\n",
        "\n",
        "v = n * p\n",
        "\n",
        "print(f\"Expected Defective bulbs in batch of 500: {v}\")"
      ],
      "metadata": {
        "colab": {
          "base_uri": "https://localhost:8080/"
        },
        "id": "hGUHbgaDWuwg",
        "outputId": "ed164adb-8a96-4cf7-ac59-8b2b9ab75780"
      },
      "execution_count": 12,
      "outputs": [
        {
          "output_type": "stream",
          "name": "stdout",
          "text": [
            "Expected Defective bulbs in batch of 500: 25.0\n"
          ]
        }
      ]
    },
    {
      "cell_type": "markdown",
      "source": [
        "**Q-11. Given the data of a feature contributing to different classes**\n",
        "\n",
        "https://drive.google.com/file/d/1mCjtYHiX--mMUjicuaP2gH3k-SnFxt8Y/view?usp\n",
        "=share_\n",
        "\n",
        "**a. Check whether the distribution of all the classes are the same or not.**\n",
        "\n",
        "**b. Check for the equality of variance**\n",
        "\n",
        "**c. Which amount LDA and QDA would perform better on this data for classification and why.**\n",
        "\n",
        "**d. Check the equality of mean for between all the classes.**"
      ],
      "metadata": {
        "id": "9O2Ud1PFrlp7"
      }
    },
    {
      "cell_type": "markdown",
      "source": [
        "Ans"
      ],
      "metadata": {
        "id": "anm_DGlLrld6"
      }
    },
    {
      "cell_type": "code",
      "source": [
        "# a. Check whether the distribution of all the classes are the same or not.\n",
        "import pandas as pd\n",
        "import scipy.stats as stats\n",
        "\n",
        "# Read the data from the CSV file\n",
        "df = pd.read_csv('data.csv')\n",
        "\n",
        "# Perform Kruskal-Wallis test to check distribution\n",
        "\n",
        "# assuming significance level to be 5%\n",
        "sign_level = 0.05\n",
        "\n",
        "bp_bef = df[df.columns[1]]\n",
        "bp_aft = df[df.columns[2]]\n",
        "\n",
        "kruskal_result = stats.kruskal(bp_bef, bp_aft)\n",
        "\n",
        "# Print the test statistic and p-value\n",
        "print(\"Kruskal-Wallis test statistic:\", kruskal_result.statistic)\n",
        "print(\"Kruskal-Wallis test p-value:\", kruskal_result.pvalue)\n",
        "\n",
        "print()\n",
        "if kruskal_result.pvalue < sign_level:\n",
        "  print(\"No,The distribution of all the classes is not the same, since p_value : {kruskal_result.pvalue} < significance_level : {sign_level}. So we will reject the Null Hypothesis\")\n",
        "\n",
        "elif kruskal_result.pvalue >= sign_level:\n",
        "  print(f\"As p_value : {kruskal_result.pvalue} >= significance_level : {sign_level}\")\n",
        "  print(\"Yes,The distribution of all the classes is the same, since As p_value : {kruskal_result.pvalue} >= significance_level : {sign_level} we Fail to reject the null hypothesis\")\n"
      ],
      "metadata": {
        "colab": {
          "base_uri": "https://localhost:8080/"
        },
        "id": "xAwDt_NLxSG6",
        "outputId": "0832b676-45cc-4c81-c67f-2fc55a026b70"
      },
      "execution_count": 16,
      "outputs": [
        {
          "output_type": "stream",
          "name": "stdout",
          "text": [
            "Kruskal-Wallis test statistic: 27.6699110421624\n",
            "Kruskal-Wallis test p-value: 1.4388340131090711e-07\n",
            "\n",
            "No,The distribution of all the classes is not the same, since p_value : {kruskal_result.pvalue} < significance_level : {sign_level}. So we will reject the Null Hypothesis\n"
          ]
        }
      ]
    },
    {
      "cell_type": "code",
      "source": [
        "# b. Check for the equality of variance \n",
        "\n",
        "statistic, p_value = stats.levene(bp_bef, bp_aft)\n",
        "\n",
        "# Print the results\n",
        "print(\"test statistic:\", statistic)\n",
        "print(\"test p-value:\", p_value)\n",
        "\n",
        "if p_value  <  sign_level:\n",
        "  print(f\"No,There is no equality of variance as p_value : {p_value} < significance_level : {sign_level}, so we Reject the null hypothesis\")\n",
        "elif p_value  >=  sign_level:\n",
        "  print(f\"Yes,There equality of variance as p_value : {p_value} >= significance_level :{sign_level}, so we Fail to reject the null hypothesis\")\n"
      ],
      "metadata": {
        "colab": {
          "base_uri": "https://localhost:8080/"
        },
        "id": "W1T-X2YtyPbH",
        "outputId": "fb1f0b90-c040-4b04-d98e-3d747f3671d6"
      },
      "execution_count": 18,
      "outputs": [
        {
          "output_type": "stream",
          "name": "stdout",
          "text": [
            "test statistic: 0.18038002140150966\n",
            "test p-value: 0.6715080090945376\n",
            "Yes,There equality of variance as p_value : 0.6715080090945376 >= significance_level :0.05, so we Fail to reject the null hypothesis\n"
          ]
        }
      ]
    },
    {
      "cell_type": "code",
      "source": [
        "# c. Which amount LDA and QDA would perform better on this data for classification and why.\n",
        "import pandas as pd\n",
        "from sklearn.model_selection import train_test_split\n",
        "from sklearn.discriminant_analysis import LinearDiscriminantAnalysis, QuadraticDiscriminantAnalysis\n",
        "\n",
        "# Load the data from the CSV file\n",
        "data = pd.read_csv('data.csv')\n",
        "\n",
        "# Extract the features and target variable\n",
        "X = data[[df.columns[1], df.columns[2]]]\n",
        "y = data['Patient ID']\n",
        "\n",
        "# Split the data into training and testing sets\n",
        "X_train, X_test, y_train, y_test = train_test_split(X, y, test_size=0.2, random_state=42)\n",
        "\n",
        "# Create LDA and QDA models\n",
        "lda = LinearDiscriminantAnalysis()\n",
        "qda = QuadraticDiscriminantAnalysis()\n",
        "\n",
        "try:\n",
        "    # Fit the models on the training data\n",
        "    lda.fit(X_train, y_train)\n",
        "    qda.fit(X_train, y_train)\n",
        "\n",
        "    # Predict the classes for the testing data\n",
        "    lda_predictions = lda.predict(X_test)\n",
        "    qda_predictions = qda.predict(X_test)\n",
        "\n",
        "    # Print the predicted classes\n",
        "    print(\"LDA Predictions:\")\n",
        "    print(lda_predictions)\n",
        "    print()\n",
        "    print(\"QDA Predictions:\")\n",
        "    print(qda_predictions)\n",
        "\n",
        "except ValueError as e:\n",
        "    print(\"ValueError occurred:\", e)\n",
        "    print(\"LDA and QDA cannot be performed on the given data.\")\n",
        "    print(\"We can try alternatives like Decision Tree, Random Forests, SVM etc\")"
      ],
      "metadata": {
        "colab": {
          "base_uri": "https://localhost:8080/"
        },
        "id": "ta6Ato-CyPSH",
        "outputId": "d8de2fd0-2ba6-436f-d716-10445e4c0e95"
      },
      "execution_count": 24,
      "outputs": [
        {
          "output_type": "stream",
          "name": "stdout",
          "text": [
            "ValueError occurred: The number of samples must be more than the number of classes.\n",
            "LDA and QDA cannot be performed on the given data.\n",
            "We can try alternatives like Decision Tree, Random Forests, SVM etc\n"
          ]
        }
      ]
    },
    {
      "cell_type": "code",
      "source": [
        "# d. Check the equality of mean for between all the classes.\n",
        "\n",
        "import pandas as pd\n",
        "from scipy.stats import f_oneway\n",
        "\n",
        "# Perform ANOVA test\n",
        "statistic, p_value = f_oneway(bp_bef, bp_aft)\n",
        "\n",
        "# Print the results\n",
        "print(\"ANOVA Test Results:\")\n",
        "print()\n",
        "print(\"Test Statistic:\", statistic)\n",
        "print(\"p-value:\", p_value)\n",
        "print()\n",
        "\n",
        "# Interpret the results\n",
        "alpha = 0.05\n",
        "if p_value < alpha:\n",
        "    print(f\"As p_value : {p_value} < significance_level/alpha : {alpha}\")\n",
        "    print(\"There is a significant difference in the means of the two groups.\")\n",
        "elif p_value >= alpha:\n",
        "    print(f\"As p_value : {p_value} >= significance_level/alpha : {alpha}\")\n",
        "    print(\"No,There is no significant difference in the means of the two groups.\")"
      ],
      "metadata": {
        "colab": {
          "base_uri": "https://localhost:8080/"
        },
        "id": "bwsUcXVozS1c",
        "outputId": "edacc56c-cab5-4461-caf8-ac153101ac82"
      },
      "execution_count": 26,
      "outputs": [
        {
          "output_type": "stream",
          "name": "stdout",
          "text": [
            "ANOVA Test Results:\n",
            "\n",
            "Test Statistic: 33.85555270599285\n",
            "p-value: 2.3565868442707578e-08\n",
            "\n",
            "As p_value : 2.3565868442707578e-08 < significance_level/alpha : 0.05\n",
            "There is a significant difference in the means of the two groups.\n"
          ]
        }
      ]
    },
    {
      "cell_type": "markdown",
      "source": [
        "**Q-12. A pharmaceutical company develops a new drug and wants to compare its\n",
        "effectiveness against a standard drug for treating a particular condition. They conduct a\n",
        "study with two groups: Group A receives the new drug, and Group B receives the standard\n",
        "drug. The company measures the improvement in a specific symptom for both groups after\n",
        "a 4-week treatment period.**\n",
        "\n",
        "**a. The company collects data from 30 patients in each group and calculates the\n",
        "mean improvement score and the standard deviation of improvement for each\n",
        "group. The mean improvement score for Group A is 2.5 with a standard\n",
        "deviation of 0.8, while the mean improvement score for Group B is 2.2 with a\n",
        "standard deviation of 0.6. Conduct a t-test to determine if there is a significant\n",
        "difference in the mean improvement scores between the two groups. Use a\n",
        "significance level of 0.05.**\n",
        "\n",
        "**b. Based on the t-test results, state whether the null hypothesis should be\n",
        "rejected or not. Provide a conclusion in the context of the study**"
      ],
      "metadata": {
        "id": "yXIOKw8Trkov"
      }
    },
    {
      "cell_type": "code",
      "source": [
        "# a. The company collects data from 30 patients in each group and calculates the mean improvement score and the standard deviation of improvement for each group. The mean improvement score for Group A is 2.5 with a standard deviation of 0.8, while the mean improvement score for Group B is 2.2 with a standard deviation of 0.6. Conduct a t-test to determine if there is a significant difference in the mean improvement scores between the two groups. Use a significance level of 0.05.\n",
        "\n",
        "import scipy.stats as stats\n",
        "\n",
        "# Data of A\n",
        "mean_a = 2.5\n",
        "std_a = 0.8\n",
        "n_a = 30\n",
        "\n",
        "# Data of B\n",
        "mean_b = 2.2\n",
        "std_b = 0.6\n",
        "n_b = 30\n",
        "\n",
        "#  t-test\n",
        "t_stat, p_value = stats.ttest_ind_from_stats(mean_a, std_a, n_a, mean_b, std_b, n_b)\n",
        "\n",
        "# Print the results\n",
        "\n",
        "print(\"t-statistic:\", t_stat)\n",
        "print(\"p-value:\", p_value)\n",
        "\n",
        "alpha=0.05\n",
        "if p_value < alpha:\n",
        "    print(f\"As p_value : {p_value} < significance_level/alpha : {alpha}\")\n",
        "    print(\"Yes,There is a equality of mean for between all the classes\")\n",
        "    print(\"There is a significant difference in the means of the two groups.\")\n",
        "elif p_value >= alpha: \n",
        "    print(f\"As p_value : {p_value} >= significance_level/alpha : {alpha}\")\n",
        "    print(\"No,There is no significant difference in the means of the two groups.\")\n",
        "  "
      ],
      "metadata": {
        "colab": {
          "base_uri": "https://localhost:8080/"
        },
        "id": "ZHPAjq_0qFZa",
        "outputId": "8479e0f6-bea1-481b-e028-8af792e887ef"
      },
      "execution_count": 27,
      "outputs": [
        {
          "output_type": "stream",
          "name": "stdout",
          "text": [
            "t-statistic: 1.6431676725154976\n",
            "p-value: 0.10575916705583671\n",
            "As p_value : 0.10575916705583671 >= significance_level/alpha : 0.05\n",
            "No,There is no significant difference in the means of the two groups.\n"
          ]
        }
      ]
    },
    {
      "cell_type": "code",
      "source": [
        "# b. Based on the t-test results, state whether the null hypothesis should be rejected or not. Provide a conclusion in the context of the study\n",
        "\n",
        "print(f\"As p_value : {p_value} >= significance_level/alpha : {alpha}\")\n",
        "print(\"No,There is no significant difference in the means of the two groups. So we fail to reject the null hypothesis\")\n",
        "\n",
        "print(\"\"\"\n",
        "As per t-test there is no significant difference in mean improvement scores between Group A and Group B. \n",
        "As a result, the study provides no evidence to support the claim that the new medicine is more effective.\n",
        "\"\"\")"
      ],
      "metadata": {
        "colab": {
          "base_uri": "https://localhost:8080/"
        },
        "id": "Sa0LZk0m1t2h",
        "outputId": "3d83bae0-11d5-4ae2-9728-d40d72241388"
      },
      "execution_count": 28,
      "outputs": [
        {
          "output_type": "stream",
          "name": "stdout",
          "text": [
            "As p_value : 0.10575916705583671 >= significance_level/alpha : 0.05\n",
            "No,There is no significant difference in the means of the two groups. So we fail to reject the null hypothesis\n",
            "\n",
            "As per t-test there is no significant difference in mean improvement scores between Group A and Group B. \n",
            "As a result, the study provides no evidence to support the claim that the new medicine is more effective.\n",
            "\n"
          ]
        }
      ]
    },
    {
      "cell_type": "code",
      "source": [],
      "metadata": {
        "id": "cjdJ2HGF2Spv"
      },
      "execution_count": null,
      "outputs": []
    }
  ]
}