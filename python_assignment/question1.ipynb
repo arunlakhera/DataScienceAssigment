{
  "nbformat": 4,
  "nbformat_minor": 0,
  "metadata": {
    "colab": {
      "provenance": []
    },
    "kernelspec": {
      "name": "python3",
      "display_name": "Python 3"
    },
    "language_info": {
      "name": "python"
    }
  },
  "cells": [
    {
      "cell_type": "markdown",
      "source": [
        "Question 1: -\n",
        "Write a program that takes a string as input, and counts the frequency of each word in the string, there might be repeated characters in the string. Your task is to find the highest frequency and returns the length of the\n",
        "highest-frequency word.\n",
        "\n",
        "**Note** - You have to write at least 2 additional test cases in which your program will run successfully and provide\n",
        "an explanation for the same.\n",
        "\n",
        "Example input - string = “write write write all the number from from from 1 to 100”\n",
        "\n",
        "Example output - 5\n",
        "\n",
        "Explanation - From the given string we can note that the most frequent words are “write” and “from” and the maximum value of both the values is “write” and its corresponding length is 5\n"
      ],
      "metadata": {
        "id": "gqwfaVQ9cS-D"
      }
    },
    {
      "cell_type": "code",
      "execution_count": null,
      "metadata": {
        "id": "l55V0-4Db1TP"
      },
      "outputs": [],
      "source": [
        "def count_words(input_str):\n",
        "\n",
        "  # Create list of words\n",
        "  words_list = input_str.split()\n",
        "  \n",
        "  # unique words from words list\n",
        "  uniq_words_list = set(words_list)\n",
        "\n",
        "  word_count_dic = dict()\n",
        "  # Create a dictionary of words with their frequency\n",
        "  for uniq_word in uniq_words_list:\n",
        "    i = 0\n",
        "    word_count = sum([(i+1) for word in words_list if uniq_word == word])\n",
        "    word_count_dic[uniq_word] = word_count\n",
        "\n",
        "  # Calculate maximum frequency among words\n",
        "  max_freq_word_count = max(word_count_dic.values())\n",
        "\n",
        "  # list of words with maximum frequency\n",
        "  max_freq_word_list = [word for word in word_count_dic.keys() if word_count_dic[word] == max_freq_word_count]\n",
        "\n",
        "  num_of_max_freq_words = len(max_freq_word_list)\n",
        "  freq_word_str = \"\"\n",
        "\n",
        "  # String variable with name of all the words with max frequencies\n",
        "  for i in range(num_of_max_freq_words):\n",
        "    freq_word_str =  freq_word_str + '\\\"' + max_freq_word_list[i] + '\\\"' \n",
        "    if i < (num_of_max_freq_words - 1):\n",
        "      freq_word_str = freq_word_str + \" and \"\n",
        "  \n",
        "\n",
        "  # Word with Maximum length\n",
        "  max_freq_word_len_list = [len(word) for word in max_freq_word_list]\n",
        "\n",
        "  print(max(max_freq_word_len_list))\n",
        "  \n",
        "  max_len_of_max_freq_word = max(max_freq_word_len_list)\n",
        "\n",
        "  words_with_max_len = [max_freq_word_list[i] for i in range(len(max_freq_word_len_list)) if len(max_freq_word_list[i]) == max_len_of_max_freq_word]\n",
        "\n",
        " \n",
        "  if num_of_max_freq_words == 1:\n",
        "    print(f'From the given string we can note that the most frequent word is {freq_word_str} and its corresponding length is {max_len_of_max_freq_word}')\n",
        "  elif num_of_max_freq_words > 1:\n",
        "    print(f'From the given string we can note that the most frequent words are {freq_word_str} and maximum length word is {words_with_max_len[0]} and its corresponding length is {max_len_of_max_freq_word}')\n",
        "  else:\n",
        "    print(\"Invalid String\")\n"
      ]
    },
    {
      "cell_type": "code",
      "source": [
        "user_input = input(\"Enter a string: \")"
      ],
      "metadata": {
        "colab": {
          "base_uri": "https://localhost:8080/"
        },
        "id": "qdQAQoGsdTOn",
        "outputId": "176dc3b4-0624-4052-879f-4c995cdf435f"
      },
      "execution_count": null,
      "outputs": [
        {
          "name": "stdout",
          "output_type": "stream",
          "text": [
            "Enter a string: this is this book which book is book of book\n"
          ]
        }
      ]
    },
    {
      "cell_type": "code",
      "source": [
        "if len(user_input) > 0:\n",
        "  count_words(user_input)\n",
        "else:\n",
        "  print(\"Please provide a String\")"
      ],
      "metadata": {
        "colab": {
          "base_uri": "https://localhost:8080/"
        },
        "id": "fP56tmqHdZAJ",
        "outputId": "d1e8ea98-fa76-43e7-8ec3-e9857c2c93b7"
      },
      "execution_count": null,
      "outputs": [
        {
          "output_type": "stream",
          "name": "stdout",
          "text": [
            "4\n",
            "From the given string we can note that the most frequent word is \"book\" and its corresponding length is 4\n"
          ]
        }
      ]
    },
    {
      "cell_type": "code",
      "source": [
        "#test1\n",
        "count_words(\"this is this book which book is book of book\")"
      ],
      "metadata": {
        "id": "dTZ-WyErgBCi",
        "colab": {
          "base_uri": "https://localhost:8080/"
        },
        "outputId": "edb05330-b904-41b9-ec99-c47718312fab"
      },
      "execution_count": null,
      "outputs": [
        {
          "output_type": "stream",
          "name": "stdout",
          "text": [
            "4\n",
            "From the given string we can note that the most frequent word is \"book\" and its corresponding length is 4\n"
          ]
        }
      ]
    },
    {
      "cell_type": "code",
      "source": [
        "# test 2\n",
        "count_words(\"check is the program is the test is check the check\")"
      ],
      "metadata": {
        "colab": {
          "base_uri": "https://localhost:8080/"
        },
        "id": "j-zGCsl0xilH",
        "outputId": "0b2d96b8-bde8-4e78-b27b-96b6d43108ff"
      },
      "execution_count": null,
      "outputs": [
        {
          "output_type": "stream",
          "name": "stdout",
          "text": [
            "5\n",
            "From the given string we can note that the most frequent words are \"check\" and \"is\" and \"the\" and maximum length word is check and its corresponding length is 5\n"
          ]
        }
      ]
    },
    {
      "cell_type": "code",
      "source": [],
      "metadata": {
        "id": "bMTZo4-mx3EB"
      },
      "execution_count": null,
      "outputs": []
    }
  ]
}