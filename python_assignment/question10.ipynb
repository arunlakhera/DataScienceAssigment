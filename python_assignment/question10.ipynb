{
  "nbformat": 4,
  "nbformat_minor": 0,
  "metadata": {
    "colab": {
      "provenance": []
    },
    "kernelspec": {
      "name": "python3",
      "display_name": "Python 3"
    },
    "language_info": {
      "name": "python"
    }
  },
  "cells": [
    {
      "cell_type": "markdown",
      "source": [
        "Question 10 -\n",
        "\n",
        "Write a program to count the number of verbs, nouns, pronouns, and adjectives in a given particular phrase or paragraph, and return their respective count as a dictionary.\n",
        "\n",
        "Note -\n",
        "\n",
        "1. Write code comments wherever required for code\n",
        "\n",
        "2. You have to write at least 2 additional test cases in which your program will run successfully and provide an explanation for the same"
      ],
      "metadata": {
        "id": "JpRGFQCrbx8F"
      }
    },
    {
      "cell_type": "code",
      "source": [
        "import nltk\n",
        "from nltk.tokenize import word_tokenize\n",
        "from nltk.corpus import wordnet as wn\n",
        "\n",
        "# Downloading required packages\n",
        "nltk.download('punkt')\n",
        "nltk.download('averaged_perceptron_tagger')\n",
        "\n",
        "# Function to count the part of speech in the paragraph\n",
        "def pos_count(user_text):\n",
        "  # creating list of words from given paragraph\n",
        "  word_tokens = word_tokenize(user_text)\n",
        "\n",
        "  # Creating list of tuple containing word from paragraph and its corresponding part of speech\n",
        "  para_pos = nltk.pos_tag(word_tokens)\n",
        "\n",
        "  # Dictionary to count part of speech in paragraph\n",
        "  counts = {'verb': 0, 'noun': 0, 'pronoun': 0, 'adjective': 0}\n",
        "  for word, tag in para_pos:\n",
        "    if 'VB' in tag:\n",
        "      counts['verb'] += 1\n",
        "    elif 'NN' in tag:\n",
        "      counts['noun'] += 1\n",
        "    elif 'PRP' in tag:\n",
        "      counts['pronoun'] += 1\n",
        "    elif 'JJ' in tag:\n",
        "      counts['adjective'] += 1\n",
        "  return counts"
      ],
      "metadata": {
        "colab": {
          "base_uri": "https://localhost:8080/"
        },
        "id": "9e6pCdaqYEAa",
        "outputId": "4f99e1c9-c362-4db9-bb85-0d72f858330e"
      },
      "execution_count": 31,
      "outputs": [
        {
          "output_type": "stream",
          "name": "stderr",
          "text": [
            "[nltk_data] Downloading package punkt to /root/nltk_data...\n",
            "[nltk_data]   Package punkt is already up-to-date!\n",
            "[nltk_data] Downloading package averaged_perceptron_tagger to\n",
            "[nltk_data]     /root/nltk_data...\n",
            "[nltk_data]   Package averaged_perceptron_tagger is already up-to-\n",
            "[nltk_data]       date!\n"
          ]
        }
      ]
    },
    {
      "cell_type": "code",
      "source": [
        "user_input = \"The building in Manhattan is taller than burj.\"\n",
        "print(pos_count(user_input))"
      ],
      "metadata": {
        "colab": {
          "base_uri": "https://localhost:8080/"
        },
        "id": "h4-UKIEGajMr",
        "outputId": "b3475163-e115-4094-a118-0fe443a45d8c"
      },
      "execution_count": 32,
      "outputs": [
        {
          "output_type": "stream",
          "name": "stdout",
          "text": [
            "{'verb': 1, 'noun': 3, 'pronoun': 0, 'adjective': 1}\n"
          ]
        }
      ]
    },
    {
      "cell_type": "code",
      "source": [
        "user_input = \"If mary had a little lamb then what did Jill had.\"\n",
        "print(pos_count(user_input))"
      ],
      "metadata": {
        "colab": {
          "base_uri": "https://localhost:8080/"
        },
        "id": "Ls1yaoaIbsLQ",
        "outputId": "451bb802-a5fa-48d3-a6cc-e9efc2dd9c13"
      },
      "execution_count": 35,
      "outputs": [
        {
          "output_type": "stream",
          "name": "stdout",
          "text": [
            "{'verb': 3, 'noun': 2, 'pronoun': 0, 'adjective': 2}\n"
          ]
        }
      ]
    },
    {
      "cell_type": "code",
      "source": [],
      "metadata": {
        "id": "r1ZbGrqncC_q"
      },
      "execution_count": null,
      "outputs": []
    }
  ]
}