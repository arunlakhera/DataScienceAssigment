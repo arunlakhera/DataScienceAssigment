{
  "nbformat": 4,
  "nbformat_minor": 0,
  "metadata": {
    "colab": {
      "provenance": []
    },
    "kernelspec": {
      "name": "python3",
      "display_name": "Python 3"
    },
    "language_info": {
      "name": "python"
    }
  },
  "cells": [
    {
      "cell_type": "markdown",
      "source": [
        "Question 2: -\n",
        "Consider a string to be valid if all characters of the string appear the same number of times. It is also valid if he can remove just one character at the index in the string, and the remaining characters will occur the same\n",
        "number of times. Given a string, determine if it is valid. If so, return YES , otherwise return NO .\n",
        "\n",
        "Note - You have to write at least 2 additional test cases in which your program will run successfully and providean explanation for the same.\n",
        "\n",
        "\n",
        "Example input 1 - s = “abc”. This is a valid string because frequencies are { “a”: 1, “b”: 1, “c”: 1 }\n",
        "\n",
        "Example output 1- YES\n",
        "\n",
        "Example input 2 - s “abcc”. This string is not valid as we can remove only 1 occurrence of “c”. That leaves character frequencies of { “a”: 1, “b”: 1 , “c”: 2 }\n",
        "\n",
        "Example output 2 - NO"
      ],
      "metadata": {
        "id": "5j4i1r12NPjt"
      }
    },
    {
      "cell_type": "code",
      "execution_count": null,
      "metadata": {
        "id": "R-2_CMmTNNQH"
      },
      "outputs": [],
      "source": [
        "def validString(user_input):\n",
        "\n",
        "  # Character list from user input\n",
        "  str_char_list = [ch for ch in user_input]\n",
        "\n",
        "  # Dictionary to store unique characters and their counts\n",
        "  str_char_count = dict()\n",
        "\n",
        "  # Loop to create dictionary of unique characters\n",
        "  for ch in user_input:\n",
        "    if ch not in str_char_count.keys():\n",
        "      str_char_count[ch] = 0\n",
        "\n",
        "  # Loop to update character count\n",
        "  for char, count in str_char_count.items():  \n",
        "    char_count = 0\n",
        "    for i in range(len(str_char_list)):\n",
        "      if str_char_list[i] == char:\n",
        "        char_count += 1\n",
        "    str_char_count[char] = char_count\n",
        "  \n",
        "  # Loop to check if string is valid i.e if count of string characters is same\n",
        "  valid_flag = True\n",
        "  min_count = min(str_char_count.values())\n",
        "  max_count = max(str_char_count.values())\n",
        "\n",
        "  if min_count == max_count:\n",
        "    print(f\"This is a valid string because frequencies are {str_char_count}\")\n",
        "  else:\n",
        "    output_str = ''\n",
        "    \n",
        "    for k,v in str_char_count.items():\n",
        "      if v > min_count:\n",
        "        output_str += f'{v - min_count} occurence of \"{k}\" '\n",
        "    print(f\"This string is not valid as we can remove only {output_str}. That leaves character frequencies of {str_char_count}\")"
      ]
    },
    {
      "cell_type": "code",
      "source": [
        "user_input = input(\"Enter a String:\")\n",
        "if len(user_input) > 1:\n",
        "  validString(user_input)\n",
        "else:\n",
        "  print(\"Please enter a vlid string.\")"
      ],
      "metadata": {
        "colab": {
          "base_uri": "https://localhost:8080/"
        },
        "id": "7yxqs3z1kNSs",
        "outputId": "d5ddc702-703e-4aa0-b281-474ecc6abe84"
      },
      "execution_count": null,
      "outputs": [
        {
          "output_type": "stream",
          "name": "stdout",
          "text": [
            "Enter a String:stuff\n",
            "This string is not valid as we can remove only 1 occurence of \"f\" . That leaves character frequencies of {'s': 1, 't': 1, 'u': 1, 'f': 2}\n"
          ]
        }
      ]
    },
    {
      "cell_type": "code",
      "source": [
        "validString(\"string\")"
      ],
      "metadata": {
        "colab": {
          "base_uri": "https://localhost:8080/"
        },
        "id": "m_V7mDVCOLpH",
        "outputId": "3e090c76-17cf-4f85-d604-06e8f50cad92"
      },
      "execution_count": null,
      "outputs": [
        {
          "output_type": "stream",
          "name": "stdout",
          "text": [
            "This is a valid string because frequencies are {'s': 1, 't': 1, 'r': 1, 'i': 1, 'n': 1, 'g': 1}\n"
          ]
        }
      ]
    },
    {
      "cell_type": "markdown",
      "source": [],
      "metadata": {
        "id": "B_kOIh8bNOgo"
      }
    },
    {
      "cell_type": "code",
      "source": [
        "validString(\"stuufff\")"
      ],
      "metadata": {
        "colab": {
          "base_uri": "https://localhost:8080/"
        },
        "id": "AxNVOY6pOO7D",
        "outputId": "34d9c233-87c1-49f6-add5-790a2b7c90d2"
      },
      "execution_count": null,
      "outputs": [
        {
          "output_type": "stream",
          "name": "stdout",
          "text": [
            "This string is not valid as we can remove only 1 occurence of \"u\" 2 occurence of \"f\" . That leaves character frequencies of {'s': 1, 't': 1, 'u': 2, 'f': 3}\n"
          ]
        }
      ]
    },
    {
      "cell_type": "code",
      "source": [],
      "metadata": {
        "id": "djvERomsOT2l"
      },
      "execution_count": null,
      "outputs": []
    }
  ]
}