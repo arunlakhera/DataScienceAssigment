{
  "nbformat": 4,
  "nbformat_minor": 0,
  "metadata": {
    "colab": {
      "provenance": []
    },
    "kernelspec": {
      "name": "python3",
      "display_name": "Python 3"
    },
    "language_info": {
      "name": "python"
    }
  },
  "cells": [
    {
      "cell_type": "markdown",
      "source": [
        "Question 4 -\n",
        "\n",
        "Write a program to download the data from the link given below and then read the data and convert the into the proper structure and return it as a CSV file.\n",
        "\n",
        "Link - https://data.nasa.gov/resource/y77d-th95.json\n",
        "\n",
        "Note - Write code comments wherever needed for code understanding\n",
        "\n",
        "\n",
        "Excepted Output Data Attributes\n",
        "\n",
        "● Name of Earth Meteorite - string \n",
        "\n",
        "● id - ID of Earth\n",
        "\n",
        "● Meteorite - int \n",
        "\n",
        "● nametype - string \n",
        "\n",
        "● recclass - string\n",
        "\n",
        "● mass - Mass of Earth Meteorite - float \n",
        "\n",
        "● year - Year at which Earth Meteorite was hit - datetime format \n",
        "\n",
        "● reclat - float \n",
        "\n",
        "● recclong - float\n",
        "\n",
        "● point coordinates - list of int"
      ],
      "metadata": {
        "id": "EQICjLzsXNJ6"
      }
    },
    {
      "cell_type": "code",
      "execution_count": null,
      "metadata": {
        "id": "2USjm38XXIOz"
      },
      "outputs": [],
      "source": [
        "# import urllib library\n",
        "from urllib.request import urlopen\n",
        "# import json library\n",
        "import json  \n",
        "#import datetime library\n",
        "import datetime\n",
        "import pandas as pd\n",
        "\n",
        "def readDataJSON(url_link):\n",
        "  \n",
        "  try:\n",
        "    # store the response of URL\n",
        "    response = urlopen(url_link)\n",
        "  except Exception as e:\n",
        "    print(\"Could not open link\")  \n",
        "  \n",
        "  try:\n",
        "    # storing the JSON response from url in data\n",
        "    data_json = json.loads(response.read())\n",
        "  except Exception as e:\n",
        "    print(\"Could not read data from link\")\n",
        "  \n",
        "  try:\n",
        "    # convert the json response\n",
        "    convertData(data_json)\n",
        "  except Exception as e:\n",
        "    print(\"Could not convert data\")\n",
        "\n",
        "# Function to convert Data from JSON into required format\n",
        "def convertData(data):\n",
        "  new_data = []\n",
        " \n",
        "  for i in range(len(data)):\n",
        "    \n",
        "    try:\n",
        "      # setting default values for missing data\n",
        "      data[i].setdefault('year','1000-01-01T00:00:00.000')\n",
        "      data[i].setdefault('reclat','0.0')\n",
        "      data[i].setdefault('reclong','0.0')\n",
        "      data[i].setdefault('mass',0)\n",
        "      data[i].setdefault('geolocation', {})\n",
        "      data[i]['geolocation'].setdefault('type','')\n",
        "      data[i]['geolocation'].setdefault('coordinates',[])\n",
        "      data[i].setdefault('year','1000-01-01T00:00:00.000')\n",
        "      \n",
        "      data_date = data[i].get('year','1000-01-01T00:00:00.000')[:10]\n",
        "      data_year = datetime.datetime.strptime(data_date, '%Y-%m-%d').year\n",
        "      \n",
        "      new_data.append({\n",
        "        'name': str(data[i]['name']),\n",
        "        'id': str(data[i]['id']),\n",
        "        'nametype': str(data[i]['nametype']),\n",
        "        'recclass': str(data[i]['recclass']),\n",
        "        'mass': float(data[i]['mass']),\n",
        "        'year': data_year,\n",
        "        'reclat': float(data[i]['reclat']),\n",
        "        'reclong': float(data[i]['reclong']),\n",
        "        'point_coord': [int(i) for i in data[i]['geolocation']['coordinates']]\n",
        "        })\n",
        "      # met_year = datetime.datetime.strptime(data[i].get('year','1000-01-01T00:00:00.000')[:10], '%Y-%m-%d').year\n",
        "    except Exception as e:\n",
        "      print(\"Could not convert data.\")\n",
        "  \n",
        "  try:\n",
        "    # Create Dataframe from converted data\n",
        "    df = pd.DataFrame(new_data)\n",
        "  except Exception as e:\n",
        "    print(\"Could not create Dataframe\")\n",
        "\n",
        "  try:\n",
        "    # Create Excel file with formatted data\n",
        "    df.to_csv(\"meteorites.csv\")\n",
        "  except Exception as e:\n",
        "    print(\"Could not save data in csv.\")"
      ]
    },
    {
      "cell_type": "code",
      "source": [
        "readDataJSON(\"https://data.nasa.gov/resource/y77d-th95.json\")"
      ],
      "metadata": {
        "id": "hABHP4rnXkA9"
      },
      "execution_count": null,
      "outputs": []
    },
    {
      "cell_type": "code",
      "source": [],
      "metadata": {
        "id": "Uw7yqoWhppTO"
      },
      "execution_count": null,
      "outputs": []
    }
  ]
}