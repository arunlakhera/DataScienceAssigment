{
  "nbformat": 4,
  "nbformat_minor": 0,
  "metadata": {
    "colab": {
      "provenance": []
    },
    "kernelspec": {
      "name": "python3",
      "display_name": "Python 3"
    },
    "language_info": {
      "name": "python"
    }
  },
  "cells": [
    {
      "cell_type": "markdown",
      "source": [
        "Question 3: -\n",
        "Write a program, which would download the data from the provided link, and then read the data and convert\n",
        "that into properly structured data and return it in Excel format.\n",
        "\n",
        "Note - Write comments wherever necessary explaining the code written\n",
        "\n",
        "Link - https://raw.githubusercontent.com/Biuni/PokemonGO-Pokedex/master/pokedex.json\n",
        "\n",
        "● Pokémon in the official Pokédex - int \n",
        "\n",
        "● name: Pokémon name - string\n",
        "\n",
        "● img: URL to an image of this Pokémon - string \n",
        "\n",
        "● type: Pokémon type -string \n",
        "\n",
        "● height: Pokémon height - float\n",
        "\n",
        "● weight: Pokémon weight - float \n",
        "\n",
        "● candy: type of candy used to evolve Pokémon or given when transferred - string \n",
        "\n",
        "● candy_count: the amount of candies required to evolve - int\n",
        "\n",
        "● egg: Number of kilometers to travel to hatch the egg - float \n",
        "\n",
        "● spawn_chance: Percentage of spawn chance (NEW) - float \n",
        "\n",
        "● avg_spawns: Number of this pokemon on 10.000 spawns (NEW) - int\n",
        "\n",
        "● spawn_time: Spawns most active at the time on this field. Spawn times are the same for all time zones and are expressed in local time. (NEW) - “minutes: seconds” \n",
        "\n",
        "● multipliers: Multiplier of Combat Power (CP) for calculating the CP after evolution See below - list of int\n",
        "\n",
        "● weakness: Types of Pokémon this Pokémon is weak to - list of strings \n",
        "\n",
        "● next_evolution: Number and Name of successive evolutions of Pokémon - list of dict \n",
        "\n",
        "● prev_evolution: Number and Name of previous evolutions of Pokémon - - list of dict"
      ],
      "metadata": {
        "id": "gbYxFB_PPcov"
      }
    },
    {
      "cell_type": "code",
      "execution_count": null,
      "metadata": {
        "id": "H8KSv01QPbo-"
      },
      "outputs": [],
      "source": [
        "# import urllib library\n",
        "from urllib.request import urlopen\n",
        "# import json library\n",
        "import json  \n",
        "#import datetime library\n",
        "import datetime\n",
        "import pandas as pd\n",
        "\n",
        "def readDataJSON(url_link):\n",
        "  \n",
        "  try:\n",
        "    # store the response of URL\n",
        "    response = urlopen(url_link)\n",
        "  except Exception as e:\n",
        "    print(\"Could not open link\")  \n",
        "  \n",
        "  try:\n",
        "    # storing the JSON response from url in data\n",
        "    data_json = json.loads(response.read())\n",
        "  except Exception as e:\n",
        "    print(\"Could not read data from link\")\n",
        "  \n",
        "  try:\n",
        "    # convert the json response\n",
        "    convertData(data_json)\n",
        "  except Exception as e:\n",
        "    print(\"Could not convert data\")\n",
        "\n",
        "# Function to convert Data from JSON into required format\n",
        "def convertData(data):\n",
        "  new_data = []\n",
        "  data_columns = []\n",
        "  for i in data['pokemon']:\n",
        "    data_columns = i.keys()\n",
        "    i['id'] = int(i['id'])\n",
        "    i['num'] = int(i['num'])\n",
        "    i['name'] = str(i['name'])\n",
        "    i['img'] = str(i['img'])\n",
        "    i['type'] = str(\"\".join(i['type']))\n",
        "    i['height'] = float(i['height'].replace('m','').strip())\n",
        "    i['weight'] = float(i['weight'].replace('kg','').strip())\n",
        "\n",
        "    i['candy'] = str(i['candy'])\n",
        "    i['candy_count'] = int(i.get('candy_count',0))\n",
        "    i['egg'] = i['egg'].replace('km','').replace('Not in Eggs', '')\n",
        "    i['spawn_chance'] = float(i['spawn_chance'])\n",
        "    i['avg_spawns'] = int(i['avg_spawns'])\n",
        "    i['spawn_time'] = datetime.datetime.strptime(i['spawn_time'].replace('N/A','00:00'), '%M:%S').time()\n",
        "    # i['multipliers'] = [int(i) for i in i.get('multipliers', [])]\n",
        "    if i['multipliers'] == None:\n",
        "       i['multipliers'] = [] \n",
        "    else: \n",
        "      i['multipliers'] = [int(i) for i in i['multipliers']]\n",
        "\n",
        "    i['weaknesses'] = [str(i) for i in i['weaknesses']]\n",
        "    i['next_evolution'] = i.get('next_evolution',dict())\n",
        "    i['prev_evolution'] = i.get('prev_evolution',dict())\n",
        "    new_data.append([i['id'], i['num'], i['name'], i['img'], i['type'], i['height'], i['weight'], i['candy'], i['egg'], i['spawn_chance'], i['avg_spawns'], i['spawn_time'], i['multipliers'], i['weaknesses'],i['candy_count'],i['next_evolution'],i['prev_evolution']])\n",
        "\n",
        "  df = pd.DataFrame(new_data, columns=data_columns)\n",
        "\n",
        "  try:\n",
        "    # Create Excel file with formatted data\n",
        "    df.to_excel(\"pokemon.xlsx\", index=False)\n",
        "  except Exception as e:\n",
        "    print(\"Could not save data in Excel.\")"
      ]
    },
    {
      "cell_type": "code",
      "source": [
        "readDataJSON(\"https://raw.githubusercontent.com/Biuni/PokemonGO-Pokedex/master/pokedex.json\")"
      ],
      "metadata": {
        "id": "0A96DDmxVKv5"
      },
      "execution_count": null,
      "outputs": []
    },
    {
      "cell_type": "code",
      "source": [],
      "metadata": {
        "id": "RCnaLndhZ8gp"
      },
      "execution_count": null,
      "outputs": []
    }
  ]
}