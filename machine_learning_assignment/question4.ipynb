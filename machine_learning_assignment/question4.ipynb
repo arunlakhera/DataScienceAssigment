{
  "nbformat": 4,
  "nbformat_minor": 0,
  "metadata": {
    "colab": {
      "provenance": []
    },
    "kernelspec": {
      "name": "python3",
      "display_name": "Python 3"
    },
    "language_info": {
      "name": "python"
    }
  },
  "cells": [
    {
      "cell_type": "code",
      "execution_count": null,
      "metadata": {
        "id": "XRTUUYf_6TmI"
      },
      "outputs": [],
      "source": [
        "import pandas as pd\n",
        "from sklearn.model_selection import train_test_split\n",
        "from sklearn.ensemble import RandomForestRegressor, RandomForestClassifier\n",
        "import numpy as np\n",
        "\n",
        "data = pd.read_csv('Mlnotebooks\\data\\online_shoppers_intention.csv')\n",
        "\n",
        "nominal = ['Month','VisitorType']\n",
        "encoded = pd.get_dummies(data[nominal])\n",
        "\n",
        "\n",
        "data = pd.concat([data.drop(nominal, axis=1), encoded], axis=1)\n",
        "\n",
        "X = data.drop(['Revenue', 'Weekend', 'Informational_Duration'], axis=1)\n",
        "y_revenue = data['Revenue']\n",
        "y_weekend = data['Weekend']\n",
        "y_duration = data['Informational_Duration']\n",
        "X_train, X_test, y_revenue_train, y_revenue_test, y_weekend_train, y_weekend_test, y_duration_train, y_duration_test = train_test_split(X, y_revenue, y_weekend, y_duration, test_size=0.2, random_state=42)\n",
        "\n",
        "weekend_model = RandomForestClassifier(n_estimators=100)\n",
        "\n",
        "weekend_model.fit(X_train, y_weekend_train)\n",
        "\n",
        "weekend_predictions = weekend_model.predict(X_test)\n",
        "\n",
        "revenue_model = RandomForestClassifier(n_estimators=100)\n",
        "\n",
        "revenue_model.fit(X_train, y_revenue_train)\n",
        "\n",
        "revenue_predictions = revenue_model.predict(X_test)\n",
        "\n",
        "duration_model = RandomForestRegressor(n_estimators=100)\n",
        "\n",
        "duration_model.fit(X_train, y_duration_train)\n",
        "\n",
        "duration_predictions = duration_model.predict(X_test)\n",
        "\n",
        "# Test revenue predictions\n",
        "revenue_accuracy = np.mean(revenue_predictions == y_revenue_test)\n",
        "print(\"Revenue Accuracy:\", revenue_accuracy)\n",
        "\n",
        "# Test weekend predictions\n",
        "weekend_accuracy = np.mean(weekend_predictions == y_weekend_test)\n",
        "print(\"Weekend Accuracy:\", weekend_accuracy)\n",
        "\n",
        "# Test duration predictions\n",
        "duration_mse = np.mean((duration_predictions - y_duration_test) ** 2)\n",
        "print(\"Duration MSE:\", duration_mse)"
      ]
    }
  ]
}