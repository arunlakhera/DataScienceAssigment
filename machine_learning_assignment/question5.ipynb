{
  "nbformat": 4,
  "nbformat_minor": 0,
  "metadata": {
    "colab": {
      "provenance": []
    },
    "kernelspec": {
      "name": "python3",
      "display_name": "Python 3"
    },
    "language_info": {
      "name": "python"
    }
  },
  "cells": [
    {
      "cell_type": "code",
      "execution_count": null,
      "metadata": {
        "id": "qV28wo6M6gzX"
      },
      "outputs": [],
      "source": [
        "import pandas as pd\n",
        "import numpy as np\n",
        "from sklearn.cluster import KMeans\n",
        "from sklearn.linear_model import LinearRegression\n",
        "from sklearn.model_selection import train_test_split\n",
        "import folium\n",
        "\n",
        "data = pd.read_csv(r\"ML/data-large/rideshhare_kaggle.csv\", index_col=[0])\n",
        "\n",
        "data = data.dropna()\n",
        "\n",
        "locations = data[['latitude','longitude']]\n",
        "\n",
        "kmeans = KMeans(n_clusters=5, random_state=42)\n",
        "clusters = kmeans.fit_predict(locations)\n",
        "\n",
        "X = data[['latitude', 'longitude']]  # Features\n",
        "y = data['price'] \n",
        "\n",
        "X_train, X_test, y_train, y_test = train_test_split(X, y, test_size=0.2, random_state=42)\n",
        "\n",
        "\n",
        "model = LinearRegression()\n",
        "model.fit(X_train, y_train)\n",
        "\n",
        "\n",
        "map = folium.Map(location=[data['latitude'].mean(), data['longitude'].mean()], zoom_start=12)\n",
        "\n",
        "# Add markers for high booking areas\n",
        "for i in range(5):\n",
        "    cluster_locations = locations[clusters == i]\n",
        "    for _, location in cluster_locations.iterrows():\n",
        "        folium.Marker([location['latitude'], location['longitude']], icon=folium.Icon(color='red')).add_to(map)\n",
        "\n",
        "# Add color-coded markers for predicted prices\n",
        "for _, location in data.iterrows():\n",
        "    price = model.predict([[location['latitude'], location['longitude']]])\n",
        "    folium.CircleMarker([location['latitude'], location['longitude']],\n",
        "                        radius=5,\n",
        "                        color='blue',\n",
        "                        fill_color='blue',\n",
        "                        fill_opacity=0.7,\n",
        "                        popup=f\"Price: ${price[0]:.2f}\").add_to(map)\n",
        "\n",
        "# Save the map\n",
        "map.save('map.html')"
      ]
    }
  ]
}